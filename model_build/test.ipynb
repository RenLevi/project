{
 "cells": [
  {
   "cell_type": "code",
   "execution_count": 2,
   "metadata": {},
   "outputs": [],
   "source": [
    "from ase import Atoms\n",
    "from ase.build import rotate\n",
    "from ase.geometry import distance\n",
    "from ase.build import hcp0001\n",
    "from ase.io import write\n",
    "import numpy as np\n",
    "from ase.constraints import FixAtoms\n",
    "import copy\n",
    "import os\n",
    "from ase.geometry import get_distances\n",
    "from ase.calculators.lj import LennardJones \n",
    "from ase.calculators import emt"
   ]
  },
  {
   "cell_type": "code",
   "execution_count": 30,
   "metadata": {},
   "outputs": [
    {
     "name": "stdout",
     "output_type": "stream",
     "text": [
      "the position of Free Radical is [ 1.0189777  -0.09530499  0.02359672]\n",
      "the position of Free Radical is [0. 0. 0.]\n"
     ]
    }
   ],
   "source": [
    "from openbabel import pybel\n",
    "import numpy as np\n",
    "import ase\n",
    "from ase import Atoms\n",
    "from ase.io import write\n",
    "from ase.constraints import FixAtoms\n",
    "smiles = '[H]'  \n",
    "\n",
    "# 使用Openbabel创建分子对象\n",
    "mol = pybel.readstring(\"smi\", smiles)\n",
    "mol.make3D(forcefield='mmff94', steps=100) \n",
    "\n",
    "# 创建ASE的Atoms对象\n",
    "geo = Atoms()\n",
    "geo.set_cell(np.array([[16.0, 0.0, 0.0], [0.0, 17.0, 0.0], [0.0, 0.0, 18.0]]))\n",
    "geo.set_pbc((True, True, True))\n",
    "\n",
    "# 将Openbabel分子对象添加到ASE的Atoms对象中\n",
    "for atom in mol:\n",
    "    atom_type = atom.atomicnum\n",
    "    atom_position = np.array([float(i) for i in atom.coords])\n",
    "    geo.append(atom_type)\n",
    "    geo.positions[-1] = atom_position\n",
    "\n",
    "# 调整分子位置\n",
    "free_radical_position=geo.positions[0]\n",
    "print('the position of Free Radical is',free_radical_position)\n",
    "geo.translate(-free_radical_position)\n",
    "print('the position of Free Radical is',free_radical_position)\n",
    "# 保存为traj格式\n",
    "write('output_ase.xyz', geo, format='xyz')"
   ]
  },
  {
   "cell_type": "code",
   "execution_count": null,
   "metadata": {},
   "outputs": [],
   "source": [
    "#CatNet molecule to SMILES==>[H]C([H])([H])O to CH3O\n",
    "import re\n",
    "CNmol='[H]C([H])([O])O'\n",
    "std_SMILES='C[O]'\n",
    "\n",
    "def add_brackets_around_letters(s):\n",
    "    # 使用正则表达式替换不在[]中的字母字符，前后添加[]\n",
    "    result = re.sub(r'(?<!\\[)([a-zA-Z])(?!\\])', r'[\\g<1>]', s)\n",
    "    return result\n",
    "\n",
    "# exampel\n",
    "input_string = CNmol\n",
    "modified_string = add_brackets_around_letters(input_string)\n",
    "print(\"修改后的字符串:\", modified_string)\n",
    "\n",
    "\n",
    "\n"
   ]
  },
  {
   "cell_type": "code",
   "execution_count": null,
   "metadata": {},
   "outputs": [],
   "source": [
    "def read_file_line_by_line(file_path):\n",
    "    mol_list=[]\n",
    "    with open(file_path, 'r', encoding='utf-8') as file:\n",
    "        for line in file:\n",
    "            string = line.strip()  # 打印或存储每行，去除换行符\n",
    "            mol_list.append(string)\n",
    "        mol_list.pop(0)\n",
    "    return mol_list\n",
    "# 使用函数\n",
    "file_path = 'mollist.txt'  # 替换为你的文件路径\n",
    "list1 = read_file_line_by_line(file_path)\n",
    "print(list1)"
   ]
  },
  {
   "cell_type": "code",
   "execution_count": null,
   "metadata": {},
   "outputs": [],
   "source": [
    "from rdkit import Chem\n",
    "import numpy as np\n",
    "\n",
    "def smiles_to_chemical_graph(smiles):\n",
    "    # 从SMILES字符串创建分子对象\n",
    "    mol = Chem.MolFromSmiles(smiles)\n",
    "    # 添加氢原子\n",
    "    mol = Chem.AddHs(mol)\n",
    "    # 获取原子数量\n",
    "    num_atoms = mol.GetNumAtoms()\n",
    "    # 初始化原子种类列表\n",
    "    atom_types = []\n",
    "    # 初始化边列表，包含原子编号\n",
    "    edges = []\n",
    "    # 初始化邻接矩阵\n",
    "    adjacency_matrix = np.zeros((num_atoms, num_atoms), dtype=int)\n",
    "    # 遍历分子中的所有原子\n",
    "    for i, atom in enumerate(mol.GetAtoms()):\n",
    "        # 获取原子的符号（如'C'表示碳，'O'表示氧，'H'表示氢）\n",
    "        atom_types.append((i, atom.GetSymbol()))\n",
    "    # 遍历分子中的所有键\n",
    "    for bond in mol.GetBonds():\n",
    "        # 获取键的起始和结束原子索引\n",
    "        begin_atom_idx = bond.GetBeginAtomIdx()\n",
    "        end_atom_idx = bond.GetEndAtomIdx()\n",
    "         # 将边添加到边列表中\n",
    "        edges.append((begin_atom_idx, end_atom_idx))\n",
    "        # 获取键的类型（单键、双键、三键或芳香键），并转换为整数\n",
    "        bond_type = bond.GetBondType()\n",
    "        # 在邻接矩阵中标记成键关系\n",
    "        # 单键用1表示，双键用2表示，三键用3表示，芳香键用4表示\n",
    "        bond_value = {\n",
    "            Chem.BondType.SINGLE: 1,\n",
    "            Chem.BondType.DOUBLE: 2,\n",
    "            Chem.BondType.TRIPLE: 3,\n",
    "            Chem.BondType.AROMATIC: 4\n",
    "        }.get(bond_type, 1)  # 默认为单键\n",
    "        adjacency_matrix[begin_atom_idx, end_atom_idx] = bond_value\n",
    "        adjacency_matrix[end_atom_idx, begin_atom_idx] = bond_value  # 无向图，需要对称标记\n",
    "    return atom_types, adjacency_matrix,edges#list,array,list\n",
    "\n",
    "\n",
    "def count_nonzero_in_row(matrix):\n",
    "    non_zero_counts = np.count_nonzero(matrix,axis=1)\n",
    "    return non_zero_counts\n",
    "def check_atoms_bonds(atom_types,bondarray):\n",
    "    free_radical_position_list=[]\n",
    "    for i in range(len(atom_types)):\n",
    "        atom = atom_types[i]\n",
    "        bonds = bondarray[i]\n",
    "        if atom[1] == 'C' and bonds < 4:\n",
    "            free_radical_position_list.append(atom)\n",
    "        elif atom[1] == 'N' and bonds < 3:\n",
    "            free_radical_position_list.append(atom)\n",
    "        elif atom[1] == 'O' and bonds < 2:\n",
    "            free_radical_position_list.append(atom)\n",
    "        elif atom[1] == 'H' and bonds < 1:\n",
    "            free_radical_position_list.append(atom)\n",
    "        else:\n",
    "            pass\n",
    "    return free_radical_position_list\n",
    "\n"
   ]
  },
  {
   "cell_type": "code",
   "execution_count": null,
   "metadata": {},
   "outputs": [],
   "source": [
    "def enumerate_smiles(smiles):\n",
    "    mol = Chem.MolFromSmiles(smiles)\n",
    "    smi = Chem.MolToSmiles(mol,doRandom=False,canonical=False)\n",
    "    return smi\n",
    "smiles = '[H][C]([H])([O])[O]'\n",
    "smi_use = enumerate_smiles(smiles)\n",
    "print(smi_use)"
   ]
  },
  {
   "cell_type": "code",
   "execution_count": null,
   "metadata": {},
   "outputs": [],
   "source": [
    "# 示例SMILES字符串\n",
    "smiles = \"[H][C]([H])([O])[O]\"  \n",
    "smiles = enumerate_smiles(smiles)\n",
    "atom_types, adjacency_matrix,edges = smiles_to_chemical_graph(smiles)\n",
    "\n",
    "print(\"原子种类:\", atom_types)\n",
    "print(\"邻接矩阵:\")\n",
    "print(adjacency_matrix)\n",
    "print('bonds:',edges)\n",
    "bondlist = count_nonzero_in_row(adjacency_matrix)\n",
    "print(bondlist)\n",
    "freelist=check_atoms_bonds(atom_types,bondlist)\n",
    "print(freelist)\n"
   ]
  },
  {
   "cell_type": "code",
   "execution_count": null,
   "metadata": {},
   "outputs": [],
   "source": [
    "from rdkit import Chem\n",
    "from pprint import pprint\n",
    "# create a mol object\n",
    "mol = Chem.MolFromSmiles('[H][C]([H])C')\n",
    "# Generate 100 random SMILES\n",
    "smis = []\n",
    "for i in range(1):\n",
    "    smis.append(Chem.MolToSmiles(mol,doRandom=True,canonical=False))\n",
    "# remove duplicates\n",
    "smis_set = list(set(smis))\n",
    "smi_use = smis_set[0]\n",
    "pprint(smi_use) # output order will be random; doctest skipped"
   ]
  },
  {
   "cell_type": "code",
   "execution_count": null,
   "metadata": {},
   "outputs": [],
   "source": [
    "# Create an rdkit mol object\n",
    "from rdkit import Chem\n",
    "mol = Chem.MolFromSmiles('[H][C]([H])([O])[O]')\n",
    "mol = Chem.AddHs(mol)\n",
    "# Iterate over the atoms\n",
    "for atom in mol.GetAtoms():\n",
    "    # For each atom, set the property \"atomNote\" to a index+1 of the atom\n",
    "    atom.SetProp(\"molAtomMapNumber\", str(atom.GetIdx()))\n",
    "\n",
    "mol"
   ]
  },
  {
   "cell_type": "code",
   "execution_count": null,
   "metadata": {},
   "outputs": [],
   "source": [
    "from rdkit import Chem\n",
    "\n",
    "# 创建分子对象，这里以SMILES格式为例\n",
    "smiles = '[CH2][CH3]'\n",
    "mol = Chem.MolFromSmiles(smiles)\n",
    "\n",
    "# 添加氢原子\n",
    "mol_with_hydrogen = Chem.AddHs(mol)\n",
    "\n",
    "# 获取分子中的所有原子，包括氢原子\n",
    "atoms = mol_with_hydrogen.GetAtoms()\n",
    "\n",
    "# 遍历原子并打印每个原子的编号及其种类\n",
    "for atom in atoms:\n",
    "    atom_idx = atom.GetIdx()  # 获取原子编号\n",
    "    atom_symbol = atom.GetSymbol()  # 获取原子种类\n",
    "    print(f\"Atom Index: {atom_idx}, Atom Type: {atom_symbol}\")"
   ]
  },
  {
   "cell_type": "code",
   "execution_count": null,
   "metadata": {},
   "outputs": [],
   "source": [
    "def CatNetmol_to_SMILES(filename):#将mollist.txt中的非标准SMILES转为标准的SMILES\n",
    "    #得到分子数据的列表\n",
    "    molecule_list = read_file_line_by_line(filename)\n",
    "    mol_list=[]\n",
    "    for mol in molecule_list:\n",
    "        std_mol = add_brackets_around_letters(mol)\n",
    "        mol_list.append(std_mol)\n",
    "    return mol_list\n",
    "CatNetmol_to_SMILES('mollist.txt')"
   ]
  },
  {
   "cell_type": "code",
   "execution_count": null,
   "metadata": {},
   "outputs": [],
   "source": [
    "import numpy as np\n",
    "\n",
    "# 创建两个相同形状的数组\n",
    "array1 = np.array([1, 2, 3])\n",
    "array2 = np.array([4, 5, 6])\n",
    "\n",
    "# 直接相加\n",
    "result = (array1 + array2)/2\n",
    "print(result)  # 输出: [5 7 9]"
   ]
  },
  {
   "cell_type": "code",
   "execution_count": 13,
   "metadata": {},
   "outputs": [
    {
     "name": "stdout",
     "output_type": "stream",
     "text": [
      "[[1.43189123 0.82670279 0.        ]\n",
      " [0.         1.65340558 2.33826859]\n",
      " [0.         0.         4.67653718]]\n",
      "(0, array([1.43189123, 0.82670279, 0.        ]))\n",
      "(1, array([0.        , 1.65340558, 2.33826859]))\n",
      "(2, array([0.        , 0.        , 4.67653718]))\n"
     ]
    }
   ],
   "source": [
    "from ase.build import fcc111, add_adsorbate\n",
    "from ase.visualize import view\n",
    "slab = fcc111('Al', size=(1,1,3))\n",
    "z_max = max(slab.positions[:, 0])\n",
    "positions = slab.get_positions()\n",
    "print(positions)\n",
    "for pos in enumerate(positions):\n",
    "    # 检查位置是否超出限制\n",
    "    print(pos)\n",
    "#view(slab)\n"
   ]
  },
  {
   "cell_type": "code",
   "execution_count": 4,
   "metadata": {},
   "outputs": [
    {
     "data": {
      "text/plain": [
       "<Popen: returncode: None args: ['c:\\\\Users\\\\renyq\\\\anaconda3\\\\envs\\\\ASE_env\\...>"
      ]
     },
     "execution_count": 4,
     "metadata": {},
     "output_type": "execute_result"
    }
   ],
   "source": [
    "from ase.build import hcp0001, add_adsorbate\n",
    "from ase.visualize import view\n",
    "from ase import Atoms\n",
    "from ase.io import read ,write\n",
    "molecule = read('1.xyz')  \n",
    "view(molecule)"
   ]
  },
  {
   "cell_type": "code",
   "execution_count": 4,
   "metadata": {},
   "outputs": [
    {
     "name": "stdout",
     "output_type": "stream",
     "text": [
      "14.276800000000001\n",
      "[10.     10.     10.     10.     10.     10.     10.     10.     10.\n",
      " 10.     10.     10.     10.     10.     10.     10.     12.1384 12.1384\n",
      " 12.1384 12.1384 12.1384 12.1384 12.1384 12.1384 12.1384 12.1384 12.1384\n",
      " 12.1384 12.1384 12.1384 12.1384 12.1384 14.2768 14.2768 14.2768 14.2768\n",
      " 14.2768 14.2768 14.2768 14.2768 14.2768 14.2768 14.2768 14.2768 14.2768\n",
      " 14.2768 14.2768 14.2768 16.4152 16.4152 16.4152 16.4152 16.4152 16.4152\n",
      " 16.4152 16.4152 16.4152 16.4152 16.4152 16.4152 16.4152 16.4152 16.4152\n",
      " 16.4152]\n"
     ]
    }
   ],
   "source": [
    "from ase.build import hcp0001\n",
    "from ase.visualize import view\n",
    "from ase.io import write\n",
    "from ase.constraints import FixAtoms\n",
    "import numpy as np\n",
    "import os\n",
    "from ase.io import write\n",
    "from ase import Atoms\n",
    "def build_slab(elment,size,vacuum,file_format,save_path,fix_num):\n",
    "    x=size[0]\n",
    "    y=size[1]\n",
    "    z=size[2]\n",
    "    ru_surface = hcp0001(elment, size=size, vacuum=vacuum)\n",
    "    z_coords = ru_surface.positions[:, 2]\n",
    "    fix_num=x*y*fix_num\n",
    "    print(z_coords[fix_num])\n",
    "    print(z_coords)\n",
    "    fixed_indices = np.where(z_coords < z_coords[fix_num])[0]\n",
    "    ru_surface.constraints = [FixAtoms(indices=fixed_indices)]\n",
    "    file = elment+'_0001_surface.'+file_format\n",
    "    if not os.path.exists(save_path):\n",
    "        os.makedirs(save_path)\n",
    "    write(os.path.join(save_path, file), ru_surface)\n",
    "    return ru_surface\n",
    "slab = build_slab('Ru',(4,4,4),10,'cif','TEST',2)"
   ]
  },
  {
   "cell_type": "code",
   "execution_count": 35,
   "metadata": {},
   "outputs": [
    {
     "name": "stdout",
     "output_type": "stream",
     "text": [
      "16.4152\n",
      "The system with the molecule placed on Ru(0001) surface has been written to Ru_0001_surface_with_molecule.cif\n"
     ]
    }
   ],
   "source": [
    "from ase import Atoms\n",
    "from ase.io import read, write\n",
    "from ase.geometry import find_mic\n",
    "from ase.visualize import view\n",
    "import numpy as np\n",
    "import os\n",
    "# 读取Ru(0001)表面的CIF文件\n",
    "ru_surface = read('Ru_0001_surface.cif')\n",
    "\n",
    "# 读取分子的XYZ文件\n",
    "molecule = read('output_ase.xyz')\n",
    "\n",
    "# 计算分子的结合位点\n",
    "molecule_center = np.array([0,0,0])\n",
    "\n",
    "# 找到Ru(0001)表面最上层原子的z坐标最大值\n",
    "z_max = max(ru_surface.positions[:, 2])\n",
    "print(z_max)\n",
    "# 将分子的质心移动到这个高度\n",
    "height_above_surface = 0.4# 可以根据需要调整高度\n",
    "molecule.translate([0, 0, height_above_surface + z_max - molecule_center[2]])\n",
    "\n",
    "# 将分子添加到表面上(PS:加法？！)\n",
    "system = ru_surface + molecule\n",
    "# 保存新的结构\n",
    "view(system)\n",
    "print(\"The system with the molecule placed on Ru(0001) surface has been written to Ru_0001_surface_with_molecule.cif\")"
   ]
  },
  {
   "cell_type": "code",
   "execution_count": 37,
   "metadata": {},
   "outputs": [
    {
     "name": "stdout",
     "output_type": "stream",
     "text": [
      "原子 Ru:48 和原子 H:64 之间的距离为 [0.4], 小于截断值 0.5\n"
     ]
    },
    {
     "data": {
      "text/plain": [
       "False"
      ]
     },
     "execution_count": 37,
     "metadata": {},
     "output_type": "execute_result"
    }
   ],
   "source": [
    "def check_dist_between_atoms(structure):\n",
    "    cutoff_H = 0.5  # H\n",
    "    cutoff_other = 1.0 #other atoms\n",
    "    for i in range(len(structure)):\n",
    "        for j in range(i+1, len(structure)):\n",
    "            atom_i = structure[i]\n",
    "            atom_j = structure[j]\n",
    "            element_i = atom_i.symbol\n",
    "            element_j = atom_j.symbol\n",
    "            dist = structure.get_distances(i,j,mic=True)\n",
    "            if element_i == 'H' or element_j == 'H':\n",
    "                if dist < cutoff_H:\n",
    "                    print(f'原子 {element_i}:{i} 和原子 {element_j}:{j} 之间的距离为 {dist}, 小于截断值 {cutoff_H}')\n",
    "                    return False\n",
    "                else:\n",
    "                    pass\n",
    "            else:\n",
    "                if dist < cutoff_other:\n",
    "                    print(f'原子 {element_i}:{i} 和原子 {element_j}:{j} 之间的距离为 {dist}埃, 小于截断值 {cutoff_other}')\n",
    "                    return False\n",
    "                else:\n",
    "                    pass\n",
    "    return True\n",
    "check_dist_between_atoms(system)"
   ]
  },
  {
   "cell_type": "code",
   "execution_count": null,
   "metadata": {},
   "outputs": [],
   "source": [
    "def place_mol_on_surface(mol,surface,shift_vector):\n",
    "    # 找到Ru(0001)表面最上层原子的z坐标最大值\n",
    "    z_max = max(surface.positions[:, 2])\n",
    "    # 计算分子的结合位点,将分子的质心移动到这个高度\n",
    "    molecule_center = shift_vector + np.array([0,0,z_max])\n",
    "    mol.translate(molecule_center)\n",
    "    # 将分子添加到表面上(PS:加法？！)\n",
    "    system = surface + mol\n",
    "    return system"
   ]
  },
  {
   "cell_type": "code",
   "execution_count": 4,
   "metadata": {},
   "outputs": [
    {
     "data": {
      "text/plain": [
       "True"
      ]
     },
     "execution_count": 4,
     "metadata": {},
     "output_type": "execute_result"
    }
   ],
   "source": [
    "\n",
    "def check_molecule_over_surface(surface,mol,sv):\n",
    "    z_max = max(surface.positions[:, 2])\n",
    "    molecule_center = sv + np.array([0,0,z_max])\n",
    "    molcopy = copy.deepcopy(mol)\n",
    "    molcopy.translate(molecule_center)\n",
    "    z_min = min(molcopy.positions[:,2])\n",
    "    if z_min >= z_max:\n",
    "        return True\n",
    "    else:\n",
    "        return False\n",
    "Ru_surface = hcp0001('Ru',size=(2,2,4),vacuum=10,periodic=True)\n",
    "mol = Atoms('N2', positions=[[0, 0, 0], [0, 0, 1]])\n",
    "sv = np.array([0,0,2])\n",
    "check_molecule_over_surface(Ru_surface,mol,sv)\n"
   ]
  },
  {
   "cell_type": "code",
   "execution_count": null,
   "metadata": {},
   "outputs": [],
   "source": [
    "from ase import Atoms\n",
    "from ase.visualize import view\n",
    "from ase.io import read, write\n",
    "# 假设您已经有一个名为'molecule.xyz'的分子文件\n",
    "molecule = read('./output/[O][C][O].traj')\n",
    "view(molecule)\n",
    "# 旋转分子，例如围绕z轴旋转90度\n",
    "molecule.rotate(90, 'x', center=(0, 0, 0))\n",
    "\n",
    "# 可视化旋转后的分子\n",
    "view(molecule)"
   ]
  },
  {
   "cell_type": "code",
   "execution_count": null,
   "metadata": {},
   "outputs": [],
   "source": [
    "from ase import Atoms\n",
    "import copy\n",
    "def rotate_mol(mol,angle,axis,rotatecenter):\n",
    "    molcopy = copy.deepcopy(mol)\n",
    "    molcopy.rotate(angle,axis,center=rotatecenter)\n",
    "    return molcopy\n",
    "    "
   ]
  },
  {
   "cell_type": "code",
   "execution_count": null,
   "metadata": {},
   "outputs": [],
   "source": [
    "from rdkit import Chem\n",
    "from rdkit.Chem import AllChem\n",
    "\n",
    "# 读取XYZ文件\n",
    "def read_xyz(file_name):\n",
    "    with open(file_name, 'r') as f:\n",
    "        lines = f.readlines()\n",
    "    atom_lines = lines[2:]  # 跳过前两行（通常包含原子数和标题）\n",
    "    atoms = []\n",
    "    for line in atom_lines:\n",
    "        parts = line.split()\n",
    "        atoms.append((parts[0], (float(parts[1]), float(parts[2]), float(parts[3]))))\n",
    "    return atoms\n",
    "\n",
    "# 将原子列表转换为RDKit分子对象\n",
    "def atoms_to_mol(atoms):\n",
    "    mol = Chem.RWMol()\n",
    "    for atom, coords in atoms:\n",
    "        mol.AddAtom(Chem.Atom(atom))\n",
    "    conf = Chem.Conformer(len(atoms), coords)\n",
    "    mol.AddConformer(conf)\n",
    "    return Chem.Mol(mol)\n",
    "\n",
    "# 读取XYZ文件\n",
    "atoms = read_xyz('[H][C][H].xyz')\n",
    "\n",
    "# 将原子列表转换为RDKit分子对象\n",
    "mol = atoms_to_mol(atoms)\n",
    "\n",
    "# 将分子对象转换为SMILES字符串\n",
    "smiles = Chem.MolToSmiles(mol)\n",
    "print(smiles)"
   ]
  },
  {
   "cell_type": "code",
   "execution_count": null,
   "metadata": {},
   "outputs": [
    {
     "name": "stdout",
     "output_type": "stream",
     "text": [
      "C[O]\n",
      "原子种类: [(0, 'C'), (1, 'O'), (2, 'H'), (3, 'H'), (4, 'H')]\n",
      "5\n",
      "邻接矩阵:\n",
      "[[0 1 1 1 1]\n",
      " [1 0 0 0 0]\n",
      " [1 0 0 0 0]\n",
      " [1 0 0 0 0]\n",
      " [1 0 0 0 0]]\n",
      "bonds: [(0, 1), (0, 2), (0, 3), (0, 4)]\n",
      "[4 1 1 1 1]\n",
      "[(1, 'O')]\n"
     ]
    },
    {
     "data": {
      "text/plain": [
       "'ghost atoms'"
      ]
     },
     "execution_count": 7,
     "metadata": {},
     "output_type": "execute_result"
    }
   ],
   "source": [
    "from ase.io import read\n",
    "import SMILES_to_aseAtoms\n",
    "# 假设你的XYZ文件名为'structure.xyz'\n",
    "atoms = read('./output/[H][C]([H])([H])[O].xyz')\n",
    "smiles = '[H][C]([H])([H])[O]'\n",
    "smiles = SMILES_to_aseAtoms.enumerate_smiles(smiles)\n",
    "print(smiles)\n",
    "atom_types, adjacency_matrix,edges = SMILES_to_aseAtoms.smiles_to_chemical_graph(smiles)\n",
    "print(\"原子种类:\", atom_types)\n",
    "print(len(atom_types))\n",
    "print(\"邻接矩阵:\")\n",
    "print(adjacency_matrix)\n",
    "print('bonds:',edges)\n",
    "bondlist = SMILES_to_aseAtoms.count_nonzero_in_row(adjacency_matrix)\n",
    "print(bondlist)\n",
    "freelist=SMILES_to_aseAtoms.check_atoms_bonds(atom_types,bondlist)\n",
    "print(freelist)\n",
    "'''ghost atoms'''\n"
   ]
  },
  {
   "cell_type": "code",
   "execution_count": null,
   "metadata": {},
   "outputs": [
    {
     "name": "stderr",
     "output_type": "stream",
     "text": [
      "[16:00:36] \n",
      "\n",
      "****\n",
      "Pre-condition Violation\n",
      "attempt to add self-bond\n",
      "Violation occurred on line 493 in file D:\\bld\\rdkit_1721396113642\\work\\Code\\GraphMol\\RWMol.cpp\n",
      "Failed Expression: atomIdx1 != atomIdx2\n",
      "****\n",
      "\n"
     ]
    },
    {
     "ename": "RuntimeError",
     "evalue": "Pre-condition Violation\n\tattempt to add self-bond\n\tViolation occurred on line 493 in file Code\\GraphMol\\RWMol.cpp\n\tFailed Expression: atomIdx1 != atomIdx2\n\tRDKIT: 2024.03.5\n\tBOOST: 1_84\n",
     "output_type": "error",
     "traceback": [
      "\u001b[1;31m---------------------------------------------------------------------------\u001b[0m",
      "\u001b[1;31mRuntimeError\u001b[0m                              Traceback (most recent call last)",
      "Cell \u001b[1;32mIn[8], line 6\u001b[0m\n\u001b[0;32m      4\u001b[0m mw \u001b[38;5;241m=\u001b[39m Chem\u001b[38;5;241m.\u001b[39mRWMol(m)  \u001b[38;5;66;03m# 创建RWMol对象\u001b[39;00m\n\u001b[0;32m      5\u001b[0m new_atom_index \u001b[38;5;241m=\u001b[39m mw\u001b[38;5;241m.\u001b[39mAddAtom(Chem\u001b[38;5;241m.\u001b[39mAtom(\u001b[38;5;241m0\u001b[39m))  \u001b[38;5;66;03m# 添加一个原子\u001b[39;00m\n\u001b[1;32m----> 6\u001b[0m \u001b[43mmw\u001b[49m\u001b[38;5;241;43m.\u001b[39;49m\u001b[43mAddBond\u001b[49m\u001b[43m(\u001b[49m\u001b[38;5;241;43m1\u001b[39;49m\u001b[43m,\u001b[49m\u001b[43m \u001b[49m\u001b[43mnew_atom_index\u001b[49m\u001b[43m,\u001b[49m\u001b[43m \u001b[49m\u001b[43mChem\u001b[49m\u001b[38;5;241;43m.\u001b[39;49m\u001b[43mBondType\u001b[49m\u001b[38;5;241;43m.\u001b[39;49m\u001b[43mSINGLE\u001b[49m\u001b[43m)\u001b[49m  \u001b[38;5;66;03m# 在原子0和新添加的原子之间添加单键\u001b[39;00m\n\u001b[0;32m      7\u001b[0m \u001b[38;5;66;03m#mw.RemoveAtom(0)  # 删除原子索引为0的原子\u001b[39;00m\n\u001b[0;32m      8\u001b[0m m_edit \u001b[38;5;241m=\u001b[39m mw\u001b[38;5;241m.\u001b[39mGetMol()  \u001b[38;5;66;03m# 获取编辑后的分子对象\u001b[39;00m\n",
      "\u001b[1;31mRuntimeError\u001b[0m: Pre-condition Violation\n\tattempt to add self-bond\n\tViolation occurred on line 493 in file Code\\GraphMol\\RWMol.cpp\n\tFailed Expression: atomIdx1 != atomIdx2\n\tRDKIT: 2024.03.5\n\tBOOST: 1_84\n"
     ]
    }
   ],
   "source": [
    "from rdkit import Chem\n",
    "import SMILES_to_aseAtoms\n",
    "m = Chem.MolFromSmiles('[H][C]([H])[H]')  # 从SMILES字符串创建分子对象\n",
    "mw = Chem.RWMol(m)  # 创建RWMol对象\n",
    "new_atom_index = mw.AddAtom(Chem.Atom(0))  # 添加一个原子\n",
    "mw.AddBond(1, new_atom_index, Chem.BondType.SINGLE)  # 在原子0和新添加的原子之间添加单键\n",
    "#mw.RemoveAtom(0)  # 删除原子索引为0的原子\n",
    "m_edit = mw.GetMol()  # 获取编辑后的分子对象\n",
    "Chem.SanitizeMol(m_edit)  # 检查分子结构是否正确\n",
    "print(Chem.MolToSmiles(m_edit))  # 输出分子的SMILES字符串\n",
    "\n",
    "SMILES_to_aseAtoms_v101.check_input_SMILES(Chem.MolToSmiles(m_edit))"
   ]
  },
  {
   "cell_type": "code",
   "execution_count": 21,
   "metadata": {},
   "outputs": [
    {
     "name": "stdout",
     "output_type": "stream",
     "text": [
      "*C C\n"
     ]
    }
   ],
   "source": [
    "from rdkit import Chem\n",
    "import re\n",
    "def Bond_to_adGroup(smiles,n):\n",
    "    m = Chem.MolFromSmiles(smiles)\n",
    "    mw = Chem.RWMol(m)\n",
    "    ghost_atom_index = mw.AddAtom(Chem.Atom(0))\n",
    "    mw.AddBond(n, ghost_atom_index, Chem.BondType.SINGLE)\n",
    "    m_edit = mw.GetMol()\n",
    "    Chem.SanitizeMol(m_edit)\n",
    "    new_ad_smiles = Chem.MolToSmiles(m_edit)\n",
    "    return new_ad_smiles\n",
    "smi = Bond_to_adGroup('[CH3]',0)\n",
    "file_smi=re.sub(r\"\\*\", \"\", smi)\n",
    "print(smi,file_smi)"
   ]
  },
  {
   "cell_type": "code",
   "execution_count": 1,
   "metadata": {},
   "outputs": [
    {
     "data": {
      "text/html": [
       "<html>\n",
       "    <head>\n",
       "        <title>ASE atomic visualization</title>\n",
       "        <link rel=\"stylesheet\" type=\"text/css\"             href=\"https://www.x3dom.org/release/x3dom.css\"></link>\n",
       "        <script type=\"text/javascript\"             src=\"https://www.x3dom.org/release/x3dom.js\"></script>\n",
       "    </head>\n",
       "    <body>\n",
       "        <X3D width=\"400px\"; height=\"300px\";>\n",
       "\n",
       "<!--Inserting Generated X3D Scene-->\n",
       "<scene>\n",
       "  <viewpoint position=\"0 0 2.0\">\n",
       "    <group/>\n",
       "  </viewpoint>\n",
       "  <transform translation=\"-0.0 -0.0 -0.0\">\n",
       "    <group>\n",
       "      <group>\n",
       "        <transform translation=\"0 0 0\">\n",
       "          <shape>\n",
       "            <appearance>\n",
       "              <material diffuseColor=\"0 0 0\"/>\n",
       "            </appearance>\n",
       "            <lineset vertexCount=\"5\">\n",
       "              <coordinate point=\"0 0 0 0.0 0.0 0.0 0.0 0.0 0.0 0.0 0.0 0.0 0 0 0\"/>\n",
       "            </lineset>\n",
       "          </shape>\n",
       "        </transform>\n",
       "        <transform translation=\"0.0 0.0 0.0\">\n",
       "          <shape>\n",
       "            <appearance>\n",
       "              <material diffuseColor=\"0 0 0\"/>\n",
       "            </appearance>\n",
       "            <lineset vertexCount=\"5\">\n",
       "              <coordinate point=\"0 0 0 0.0 0.0 0.0 0.0 0.0 0.0 0.0 0.0 0.0 0 0 0\"/>\n",
       "            </lineset>\n",
       "          </shape>\n",
       "        </transform>\n",
       "        <transform translation=\"0 0 0\">\n",
       "          <shape>\n",
       "            <appearance>\n",
       "              <material diffuseColor=\"0 0 0\"/>\n",
       "            </appearance>\n",
       "            <lineset vertexCount=\"5\">\n",
       "              <coordinate point=\"0 0 0 0.0 0.0 0.0 0.0 0.0 0.0 0.0 0.0 0.0 0 0 0\"/>\n",
       "            </lineset>\n",
       "          </shape>\n",
       "        </transform>\n",
       "        <transform translation=\"0.0 0.0 0.0\">\n",
       "          <shape>\n",
       "            <appearance>\n",
       "              <material diffuseColor=\"0 0 0\"/>\n",
       "            </appearance>\n",
       "            <lineset vertexCount=\"5\">\n",
       "              <coordinate point=\"0 0 0 0.0 0.0 0.0 0.0 0.0 0.0 0.0 0.0 0.0 0 0 0\"/>\n",
       "            </lineset>\n",
       "          </shape>\n",
       "        </transform>\n",
       "      </group>\n",
       "      <group>\n",
       "        <transform translation=\"0.0 0.0 0.0\">\n",
       "          <shape>\n",
       "            <appearance>\n",
       "              <material diffuseColor=\"0.188 0.314 0.973\"/>\n",
       "            </appearance>\n",
       "            <sphere radius=\"0.71\"/>\n",
       "          </shape>\n",
       "        </transform>\n",
       "        <transform translation=\"0.0 0.0 1.0\">\n",
       "          <shape>\n",
       "            <appearance>\n",
       "              <material diffuseColor=\"0.188 0.314 0.973\"/>\n",
       "            </appearance>\n",
       "            <sphere radius=\"0.71\"/>\n",
       "          </shape>\n",
       "        </transform>\n",
       "      </group>\n",
       "    </group>\n",
       "  </transform>\n",
       "</scene>\n",
       "<!--End of Inserted Scene-->\n",
       "\n",
       "        </X3D>\n",
       "    </body>\n",
       "</html>\n",
       "\n"
      ],
      "text/plain": [
       "<IPython.core.display.HTML object>"
      ]
     },
     "execution_count": 1,
     "metadata": {},
     "output_type": "execute_result"
    }
   ],
   "source": [
    "from ase.io import read, write\n",
    "from ase.visualize import view\n",
    "from ase import Atoms\n",
    "\n",
    "# 创建一个示例原子结构\n",
    "atoms = Atoms('N2', positions=[[0, 0, 0], [0, 0, 1]])\n",
    "view(atoms, viewer='x3d')"
   ]
  },
  {
   "cell_type": "code",
   "execution_count": 7,
   "metadata": {},
   "outputs": [
    {
     "ename": "ModuleNotFoundError",
     "evalue": "No module named 'ase_notebook'",
     "output_type": "error",
     "traceback": [
      "\u001b[1;31m---------------------------------------------------------------------------\u001b[0m",
      "\u001b[1;31mModuleNotFoundError\u001b[0m                       Traceback (most recent call last)",
      "Cell \u001b[1;32mIn[7], line 1\u001b[0m\n\u001b[1;32m----> 1\u001b[0m \u001b[38;5;28;01mfrom\u001b[39;00m \u001b[38;5;21;01mase_notebook\u001b[39;00m \u001b[38;5;28;01mimport\u001b[39;00m AseView, ViewConfig, get_example_atoms\n\u001b[0;32m      2\u001b[0m config \u001b[38;5;241m=\u001b[39m ViewConfig()\n\u001b[0;32m      3\u001b[0m ase_view \u001b[38;5;241m=\u001b[39m AseView(config)\n",
      "\u001b[1;31mModuleNotFoundError\u001b[0m: No module named 'ase_notebook'"
     ]
    }
   ],
   "source": [
    "from ase_notebook import AseView, ViewConfig, get_example_atoms\n",
    "config = ViewConfig()\n",
    "ase_view = AseView(config)\n",
    "atoms = get_example_atoms()\n",
    "ase_view.make_render(atoms, center_in_uc=True)"
   ]
  },
  {
   "cell_type": "code",
   "execution_count": 2,
   "metadata": {},
   "outputs": [
    {
     "name": "stderr",
     "output_type": "stream",
     "text": [
      "<>:11: SyntaxWarning: invalid escape sequence '\\o'\n",
      "<>:11: SyntaxWarning: invalid escape sequence '\\o'\n",
      "C:\\Users\\renyq\\AppData\\Local\\Temp\\ipykernel_6492\\3839690866.py:11: SyntaxWarning: invalid escape sequence '\\o'\n",
      "  remove_x_from_xyz('.\\ot\\[C]_ads_C.xyz','testC')\n"
     ]
    }
   ],
   "source": [
    "def remove_x_from_xyz(input_file, output_file):\n",
    "    with open(input_file, 'r') as file:\n",
    "        lines = file.readlines()\n",
    "\n",
    "    # 新的原子列表，不包含\"X\"\n",
    "    new_atoms = [line for line in lines if not line.strip().startswith('X')]\n",
    "\n",
    "    # 写入新的xyz文件\n",
    "    with open(output_file, 'w') as file:\n",
    "        file.writelines(new_atoms)\n",
    "remove_x_from_xyz('.\\ot\\[C]_ads_C.xyz','testC')"
   ]
  },
  {
   "cell_type": "code",
   "execution_count": 5,
   "metadata": {},
   "outputs": [
    {
     "name": "stderr",
     "output_type": "stream",
     "text": [
      "<>:5: SyntaxWarning: invalid escape sequence '\\o'\n",
      "<>:5: SyntaxWarning: invalid escape sequence '\\o'\n",
      "C:\\Users\\renyq\\AppData\\Local\\Temp\\ipykernel_6492\\246912172.py:5: SyntaxWarning: invalid escape sequence '\\o'\n",
      "  atoms = read('.\\ot\\[CH]([O])[O]_ads_C.xyz')\n"
     ]
    }
   ],
   "source": [
    "from ase.io import read\n",
    "from ase.atoms import Atoms\n",
    "\n",
    "# 读取xyz文件\n",
    "atoms = read('.\\ot\\[CH]([O])[O]_ads_C.xyz')\n",
    "\n",
    "# 删除所有符号为\"X\"的原子\n",
    "del atoms[[atom.index for atom in atoms if atom.symbol == 'X']]\n",
    "\n",
    "# 将结果写入新的xyz文件\n",
    "atoms.write('testC.xyz')"
   ]
  },
  {
   "cell_type": "code",
   "execution_count": 16,
   "metadata": {},
   "outputs": [
    {
     "ename": "FileNotFoundError",
     "evalue": "[Errno 2] No such file or directory: 'OC[O]_ads_O.xyz'",
     "output_type": "error",
     "traceback": [
      "\u001b[1;31m---------------------------------------------------------------------------\u001b[0m",
      "\u001b[1;31mFileNotFoundError\u001b[0m                         Traceback (most recent call last)",
      "Cell \u001b[1;32mIn[16], line 14\u001b[0m\n\u001b[0;32m     12\u001b[0m \u001b[38;5;66;03m# 使用函数\u001b[39;00m\n\u001b[0;32m     13\u001b[0m file_path \u001b[38;5;241m=\u001b[39m \u001b[38;5;124m'\u001b[39m\u001b[38;5;124mOC[O]_ads_O.xyz\u001b[39m\u001b[38;5;124m'\u001b[39m  \u001b[38;5;66;03m# xyz文件路径\u001b[39;00m\n\u001b[1;32m---> 14\u001b[0m \u001b[43mremove_placeholder_in_place\u001b[49m\u001b[43m(\u001b[49m\u001b[43mfile_path\u001b[49m\u001b[43m)\u001b[49m\n",
      "Cell \u001b[1;32mIn[16], line 2\u001b[0m, in \u001b[0;36mremove_placeholder_in_place\u001b[1;34m(file_path)\u001b[0m\n\u001b[0;32m      1\u001b[0m \u001b[38;5;28;01mdef\u001b[39;00m \u001b[38;5;21mremove_placeholder_in_place\u001b[39m(file_path):\n\u001b[1;32m----> 2\u001b[0m     \u001b[38;5;28;01mwith\u001b[39;00m \u001b[38;5;28;43mopen\u001b[39;49m\u001b[43m(\u001b[49m\u001b[43mfile_path\u001b[49m\u001b[43m,\u001b[49m\u001b[43m \u001b[49m\u001b[38;5;124;43m'\u001b[39;49m\u001b[38;5;124;43mr\u001b[39;49m\u001b[38;5;124;43m'\u001b[39;49m\u001b[43m)\u001b[49m \u001b[38;5;28;01mas\u001b[39;00m file:\n\u001b[0;32m      3\u001b[0m         lines \u001b[38;5;241m=\u001b[39m file\u001b[38;5;241m.\u001b[39mreadlines()\n\u001b[0;32m      5\u001b[0m     \u001b[38;5;66;03m# 移除以\"X\"开头的行\u001b[39;00m\n",
      "File \u001b[1;32mc:\\Users\\renyq\\anaconda3\\envs\\ASE_env\\Lib\\site-packages\\IPython\\core\\interactiveshell.py:324\u001b[0m, in \u001b[0;36m_modified_open\u001b[1;34m(file, *args, **kwargs)\u001b[0m\n\u001b[0;32m    317\u001b[0m \u001b[38;5;28;01mif\u001b[39;00m file \u001b[38;5;129;01min\u001b[39;00m {\u001b[38;5;241m0\u001b[39m, \u001b[38;5;241m1\u001b[39m, \u001b[38;5;241m2\u001b[39m}:\n\u001b[0;32m    318\u001b[0m     \u001b[38;5;28;01mraise\u001b[39;00m \u001b[38;5;167;01mValueError\u001b[39;00m(\n\u001b[0;32m    319\u001b[0m         \u001b[38;5;124mf\u001b[39m\u001b[38;5;124m\"\u001b[39m\u001b[38;5;124mIPython won\u001b[39m\u001b[38;5;124m'\u001b[39m\u001b[38;5;124mt let you open fd=\u001b[39m\u001b[38;5;132;01m{\u001b[39;00mfile\u001b[38;5;132;01m}\u001b[39;00m\u001b[38;5;124m by default \u001b[39m\u001b[38;5;124m\"\u001b[39m\n\u001b[0;32m    320\u001b[0m         \u001b[38;5;124m\"\u001b[39m\u001b[38;5;124mas it is likely to crash IPython. If you know what you are doing, \u001b[39m\u001b[38;5;124m\"\u001b[39m\n\u001b[0;32m    321\u001b[0m         \u001b[38;5;124m\"\u001b[39m\u001b[38;5;124myou can use builtins\u001b[39m\u001b[38;5;124m'\u001b[39m\u001b[38;5;124m open.\u001b[39m\u001b[38;5;124m\"\u001b[39m\n\u001b[0;32m    322\u001b[0m     )\n\u001b[1;32m--> 324\u001b[0m \u001b[38;5;28;01mreturn\u001b[39;00m \u001b[43mio_open\u001b[49m\u001b[43m(\u001b[49m\u001b[43mfile\u001b[49m\u001b[43m,\u001b[49m\u001b[43m \u001b[49m\u001b[38;5;241;43m*\u001b[39;49m\u001b[43margs\u001b[49m\u001b[43m,\u001b[49m\u001b[43m \u001b[49m\u001b[38;5;241;43m*\u001b[39;49m\u001b[38;5;241;43m*\u001b[39;49m\u001b[43mkwargs\u001b[49m\u001b[43m)\u001b[49m\n",
      "\u001b[1;31mFileNotFoundError\u001b[0m: [Errno 2] No such file or directory: 'OC[O]_ads_O.xyz'"
     ]
    }
   ],
   "source": [
    "def remove_placeholder_in_place(file_path):\n",
    "    with open(file_path, 'r') as file:\n",
    "        lines = file.readlines()\n",
    "\n",
    "    # 移除以\"X\"开头的行\n",
    "    new_lines = [line for line in lines if not line.strip().startswith('X')]\n",
    "\n",
    "    # 写入修改后的内容回同一个文件\n",
    "    with open(file_path, 'w') as file:\n",
    "        file.writelines(new_lines)\n",
    "\n",
    "# 使用函数\n",
    "file_path = 'OC[O]_ads_O.xyz'  # xyz文件路径\n",
    "remove_placeholder_in_place(file_path)"
   ]
  },
  {
   "cell_type": "code",
   "execution_count": null,
   "metadata": {},
   "outputs": [],
   "source": [
    "from ase import Atoms\n",
    "from ase.geometry import distance\n",
    "\n",
    "# 假设你已经有一个Atoms对象\n",
    "# atoms = ...\n",
    "\n",
    "# 定义一个阈值，例如0.1埃\n",
    "threshold = 0.1\n",
    "\n",
    "# 获取原子数量\n",
    "num_atoms = len(atoms)\n",
    "\n",
    "# 遍历所有原子对\n",
    "for i in range(num_atoms):\n",
    "    for j in range(i + 1, num_atoms):\n",
    "        # 计算原子对之间的距离\n",
    "        dist = distance(atoms.positions[i], atoms.positions[j], atoms.cell, atoms.pbc)\n",
    "        \n",
    "        # 判断距离是否小于阈值\n",
    "        if dist < threshold:\n",
    "            print(f\"原子 {i} 和原子 {j} 重合\")\n",
    "        else:\n",
    "            print(f\"原子 {i} 和原子 {j} 不重合\")\n",
    "\n",
    "\n",
    "def check_distance_between_atoms(atoms,limit):\n",
    "    num_atoms = len(atoms)\n",
    "    for i in range(num_atoms):\n",
    "        for j in range(i+1,num_atoms):\n",
    "            dist = distance(atoms.positions[i], atoms.positions[j], atoms.cell, atoms.pbc)\n",
    "        # 判断距离是否小于阈值\n",
    "        if dist < limit:\n",
    "            print(f\"原子 {i} 和原子 {j} 重合\")\n",
    "            return False\n",
    "        else:\n",
    "            print(f\"原子 {i} 和原子 {j} 不重合\")\n",
    "            return True"
   ]
  },
  {
   "cell_type": "code",
   "execution_count": 4,
   "metadata": {},
   "outputs": [
    {
     "name": "stderr",
     "output_type": "stream",
     "text": [
      "<>:13: SyntaxWarning: invalid escape sequence '\\s'\n",
      "<>:13: SyntaxWarning: invalid escape sequence '\\s'\n",
      "C:\\Users\\renyq\\AppData\\Local\\Temp\\ipykernel_23964\\1203745152.py:13: SyntaxWarning: invalid escape sequence '\\s'\n",
      "  filename = 'ASEtoadG_output\\species_name.txt'  # 替换为你的文件路径\n",
      "C:\\Users\\renyq\\AppData\\Local\\Temp\\ipykernel_23964\\1203745152.py:13: SyntaxWarning: invalid escape sequence '\\s'\n",
      "  filename = 'ASEtoadG_output\\species_name.txt'  # 替换为你的文件路径\n"
     ]
    },
    {
     "ename": "ValueError",
     "evalue": "not enough values to unpack (expected 2, got 1)",
     "output_type": "error",
     "traceback": [
      "\u001b[1;31m---------------------------------------------------------------------------\u001b[0m",
      "\u001b[1;31mValueError\u001b[0m                                Traceback (most recent call last)",
      "Cell \u001b[1;32mIn[4], line 14\u001b[0m\n\u001b[0;32m     12\u001b[0m \u001b[38;5;66;03m# 使用函数\u001b[39;00m\n\u001b[0;32m     13\u001b[0m filename \u001b[38;5;241m=\u001b[39m \u001b[38;5;124m'\u001b[39m\u001b[38;5;124mASEtoadG_output\u001b[39m\u001b[38;5;124m\\\u001b[39m\u001b[38;5;124mspecies_name.txt\u001b[39m\u001b[38;5;124m'\u001b[39m  \u001b[38;5;66;03m# 替换为你的文件路径\u001b[39;00m\n\u001b[1;32m---> 14\u001b[0m result_dict \u001b[38;5;241m=\u001b[39m \u001b[43mtxt_to_dict\u001b[49m\u001b[43m(\u001b[49m\u001b[43mfilename\u001b[49m\u001b[43m)\u001b[49m\n\u001b[0;32m     15\u001b[0m \u001b[38;5;28mprint\u001b[39m(result_dict)\n",
      "Cell \u001b[1;32mIn[4], line 8\u001b[0m, in \u001b[0;36mtxt_to_dict\u001b[1;34m(filename, delimiter, comment_char)\u001b[0m\n\u001b[0;32m      6\u001b[0m         \u001b[38;5;66;03m# 忽略空行和注释行\u001b[39;00m\n\u001b[0;32m      7\u001b[0m         \u001b[38;5;28;01mif\u001b[39;00m line \u001b[38;5;129;01mand\u001b[39;00m \u001b[38;5;129;01mnot\u001b[39;00m line\u001b[38;5;241m.\u001b[39mstartswith(comment_char):\n\u001b[1;32m----> 8\u001b[0m             key, value \u001b[38;5;241m=\u001b[39m line\u001b[38;5;241m.\u001b[39msplit(delimiter)\n\u001b[0;32m      9\u001b[0m             dictionary[key\u001b[38;5;241m.\u001b[39mstrip()] \u001b[38;5;241m=\u001b[39m value\u001b[38;5;241m.\u001b[39mstrip()\n\u001b[0;32m     10\u001b[0m \u001b[38;5;28;01mreturn\u001b[39;00m dictionary\n",
      "\u001b[1;31mValueError\u001b[0m: not enough values to unpack (expected 2, got 1)"
     ]
    }
   ],
   "source": [
    "def txt_to_dict(filename, delimiter='=', comment_char='#'):\n",
    "    dictionary = {}\n",
    "    with open(filename, 'r') as file:\n",
    "        for line in file:\n",
    "            line = line.strip()\n",
    "            # 忽略空行和注释行\n",
    "            if line and not line.startswith(comment_char):\n",
    "                key, value = line.split(delimiter)\n",
    "                dictionary[key.strip()] = value.strip()\n",
    "    return dictionary\n",
    "\n",
    "# 使用函数\n",
    "filename = 'ASEtoadG_output\\species_name.txt'  # 替换为你的文件路径\n",
    "result_dict = txt_to_dict(filename)\n",
    "print(result_dict)"
   ]
  },
  {
   "cell_type": "code",
   "execution_count": 11,
   "metadata": {},
   "outputs": [
    {
     "name": "stdout",
     "output_type": "stream",
     "text": [
      "{'*C': '-C_ads_C.xyz', '*OCO': '-OCO_ads_O.xyz', '*[CH]': '-[CH]_ads_C.xyz', '*OC[O]': '-OC[O]_ads_O.xyz', '*C([O])O': '-C([O])O_ads_C.xyz', '*O[CH]O': '-O[CH]O_ads_O.xyz', '*[C]': '-[C]_ads_C.xyz', 'OC': 'OC_ads_noBond_O.xyz', '*[C][O]': '-[C][O]_ads_C.xyz', '*O[C]': '-O[C]_ads_O.xyz', '*[CH2]': '-[CH2]_ads_C.xyz', '*[CH]O': '-[CH]O_ads_C.xyz', 'C': 'C_ads_noBond_C.xyz', '*CO': '-CO_ads_C.xyz', '*OC': '-OC_ads_O.xyz', '*C([O])[O]': '-C([O])[O]_ads_C.xyz', '*O[CH][O]': '-O[CH][O]_ads_O.xyz', '*C[O]': '-C[O]_ads_C.xyz', '*O[CH2]': '-O[CH2]_ads_O.xyz', '*[CH][O]': '-[CH][O]_ads_C.xyz', '*O[CH]': '-O[CH]_ads_O.xyz', '*O[C][O]': '-O[C][O]_ads_O.xyz', '*[C]([O])[O]': '-[C]([O])[O]_ads_C.xyz', '*[C]([O])O': '-[C]([O])O_ads_C.xyz', '*O[C]O': '-O[C]O_ads_O.xyz', '*[C]O': '-[C]O_ads_C.xyz'}\n",
      "*C\n",
      "*OCO\n",
      "*[CH]\n",
      "*OC[O]\n",
      "*C([O])O\n",
      "*O[CH]O\n",
      "*[C]\n",
      "OC\n",
      "*[C][O]\n",
      "*O[C]\n",
      "*[CH2]\n",
      "*[CH]O\n",
      "C\n",
      "*CO\n",
      "*OC\n",
      "*C([O])[O]\n",
      "*O[CH][O]\n",
      "*C[O]\n",
      "*O[CH2]\n",
      "*[CH][O]\n",
      "*O[CH]\n",
      "*O[C][O]\n",
      "*[C]([O])[O]\n",
      "*[C]([O])O\n",
      "*O[C]O\n",
      "*[C]O\n",
      "-C_ads_C.xyz\n",
      "-OCO_ads_O.xyz\n",
      "-[CH]_ads_C.xyz\n",
      "-OC[O]_ads_O.xyz\n",
      "-C([O])O_ads_C.xyz\n",
      "-O[CH]O_ads_O.xyz\n",
      "-[C]_ads_C.xyz\n",
      "OC_ads_noBond_O.xyz\n",
      "-[C][O]_ads_C.xyz\n",
      "-O[C]_ads_O.xyz\n",
      "-[CH2]_ads_C.xyz\n",
      "-[CH]O_ads_C.xyz\n",
      "C_ads_noBond_C.xyz\n",
      "-CO_ads_C.xyz\n",
      "-OC_ads_O.xyz\n",
      "-C([O])[O]_ads_C.xyz\n",
      "-O[CH][O]_ads_O.xyz\n",
      "-C[O]_ads_C.xyz\n",
      "-O[CH2]_ads_O.xyz\n",
      "-[CH][O]_ads_C.xyz\n",
      "-O[CH]_ads_O.xyz\n",
      "-O[C][O]_ads_O.xyz\n",
      "-[C]([O])[O]_ads_C.xyz\n",
      "-[C]([O])O_ads_C.xyz\n",
      "-O[C]O_ads_O.xyz\n",
      "-[C]O_ads_C.xyz\n",
      "*C: -C_ads_C.xyz\n",
      "*OCO: -OCO_ads_O.xyz\n",
      "*[CH]: -[CH]_ads_C.xyz\n",
      "*OC[O]: -OC[O]_ads_O.xyz\n",
      "*C([O])O: -C([O])O_ads_C.xyz\n",
      "*O[CH]O: -O[CH]O_ads_O.xyz\n",
      "*[C]: -[C]_ads_C.xyz\n",
      "OC: OC_ads_noBond_O.xyz\n",
      "*[C][O]: -[C][O]_ads_C.xyz\n",
      "*O[C]: -O[C]_ads_O.xyz\n",
      "*[CH2]: -[CH2]_ads_C.xyz\n",
      "*[CH]O: -[CH]O_ads_C.xyz\n",
      "C: C_ads_noBond_C.xyz\n",
      "*CO: -CO_ads_C.xyz\n",
      "*OC: -OC_ads_O.xyz\n",
      "*C([O])[O]: -C([O])[O]_ads_C.xyz\n",
      "*O[CH][O]: -O[CH][O]_ads_O.xyz\n",
      "*C[O]: -C[O]_ads_C.xyz\n",
      "*O[CH2]: -O[CH2]_ads_O.xyz\n",
      "*[CH][O]: -[CH][O]_ads_C.xyz\n",
      "*O[CH]: -O[CH]_ads_O.xyz\n",
      "*O[C][O]: -O[C][O]_ads_O.xyz\n",
      "*[C]([O])[O]: -[C]([O])[O]_ads_C.xyz\n",
      "*[C]([O])O: -[C]([O])O_ads_C.xyz\n",
      "*O[C]O: -O[C]O_ads_O.xyz\n",
      "*[C]O: -[C]O_ads_C.xyz\n"
     ]
    }
   ],
   "source": [
    "def txt_to_dict(filename):\n",
    "    dictionary = {}\n",
    "    with open(filename, 'r') as file:\n",
    "        for line in file:\n",
    "            # 移除行首行尾的空白字符\n",
    "            line = line.strip()\n",
    "            # 忽略空行和注释行（假设注释行以'#'开头）\n",
    "            if line and not line.startswith('#'):\n",
    "                # 分割键和值，最多分割一次\n",
    "                parts = line.split(':', 1)\n",
    "                if len(parts) == 2:\n",
    "                    key, value = parts\n",
    "                    dictionary[key.strip()] = value.strip()\n",
    "                else:\n",
    "                    print(f\"无法解析的行：{line}\")\n",
    "    return dictionary\n",
    "\n",
    "# 使用函数\n",
    "filename =  'ASEtoadG_output//species_name.txt'  # 替换为你的文件路径\n",
    "result_dict = txt_to_dict(filename)\n",
    "print(result_dict)\n",
    "my_dict = result_dict\n",
    "# 遍历字典的键\n",
    "for key in my_dict:\n",
    "    print(key)\n",
    "\n",
    "# 遍历字典的值\n",
    "for value in my_dict.values():\n",
    "    print(value)\n",
    "\n",
    "# 遍历字典的键值对\n",
    "for key, value in my_dict.items():\n",
    "    print(f\"{key}: {value}\")"
   ]
  },
  {
   "cell_type": "code",
   "execution_count": null,
   "metadata": {},
   "outputs": [],
   "source": [
    "def check_dist_between_atoms(structure):\n",
    "    cutoff_H = 0.5  # H\n",
    "    cutoff_other = 1.0 #other atoms\n",
    "    for i in range(len(structure)):\n",
    "        for j in range(i+1, len(structure)):\n",
    "            atom_i = structure[i]\n",
    "            atom_j = structure[j]\n",
    "            element_i = atom_i.symbol\n",
    "            element_j = atom_j.symbol\n",
    "            dist = structure.get_distances(i,j,mic=True)\n",
    "            if element_i == 'H' or element_j == 'H':\n",
    "                if dist < cutoff_H:\n",
    "                    print(f'原子 {element_i,i} 和原子 {element_j,j} 之间的距离为 {dist}, 小于截断值 {cutoff_H}')\n",
    "                    return False\n",
    "                else:\n",
    "                    pass\n",
    "            else:\n",
    "                if dist < cutoff_other:\n",
    "                    print(f'原子 {element_i,i} 和原子 {element_j,j} 之间的距离为 {dist}, 小于截断值 {cutoff_other}')\n",
    "                    return False\n",
    "                else:\n",
    "                    pass\n",
    "    return True"
   ]
  },
  {
   "cell_type": "code",
   "execution_count": 48,
   "metadata": {},
   "outputs": [
    {
     "ename": "TypeError",
     "evalue": "'builtin_function_or_method' object is not iterable",
     "output_type": "error",
     "traceback": [
      "\u001b[1;31m---------------------------------------------------------------------------\u001b[0m",
      "\u001b[1;31mTypeError\u001b[0m                                 Traceback (most recent call last)",
      "Cell \u001b[1;32mIn[48], line 7\u001b[0m\n\u001b[0;32m      4\u001b[0m values \u001b[38;5;241m=\u001b[39m my_dict\u001b[38;5;241m.\u001b[39mvalues()\n\u001b[0;32m      6\u001b[0m \u001b[38;5;66;03m# 将值转换为列表\u001b[39;00m\n\u001b[1;32m----> 7\u001b[0m values_list \u001b[38;5;241m=\u001b[39m \u001b[38;5;28;43mlist\u001b[39;49m\u001b[43m(\u001b[49m\u001b[43mmy_dict\u001b[49m\u001b[38;5;241;43m.\u001b[39;49m\u001b[43mvalues\u001b[49m\u001b[43m)\u001b[49m\n\u001b[0;32m      8\u001b[0m \u001b[38;5;28mprint\u001b[39m(values)\n\u001b[0;32m      9\u001b[0m \u001b[38;5;28mprint\u001b[39m(values_list)  \u001b[38;5;66;03m# 输出: [1, 2, 3]\u001b[39;00m\n",
      "\u001b[1;31mTypeError\u001b[0m: 'builtin_function_or_method' object is not iterable"
     ]
    }
   ],
   "source": [
    "my_dict = {'a': 1, 'b': 2, 'c': 3}\n",
    "\n",
    "# 获取所有值\n",
    "values = my_dict.values()\n",
    "\n",
    "# 将值转换为列表\n",
    "values_list = list(my_dict.values)\n",
    "print(values)\n",
    "print(values_list)  # 输出: [1, 2, 3]\n"
   ]
  },
  {
   "cell_type": "code",
   "execution_count": 5,
   "metadata": {},
   "outputs": [
    {
     "ename": "AttributeError",
     "evalue": "'Atoms' object has no attribute 'get_rmsd'",
     "output_type": "error",
     "traceback": [
      "\u001b[1;31m---------------------------------------------------------------------------\u001b[0m",
      "\u001b[1;31mAttributeError\u001b[0m                            Traceback (most recent call last)",
      "Cell \u001b[1;32mIn[5], line 8\u001b[0m\n\u001b[0;32m      6\u001b[0m s1 \u001b[38;5;241m=\u001b[39m read(\u001b[38;5;124m'\u001b[39m\u001b[38;5;124m./output//mol_to_ad//Ru--C//random_model1Ru--C.cif\u001b[39m\u001b[38;5;124m'\u001b[39m)\n\u001b[0;32m      7\u001b[0m s2 \u001b[38;5;241m=\u001b[39m read(\u001b[38;5;124m'\u001b[39m\u001b[38;5;124m./output/mol_to_ad/Ru--C/random_model2Ru--C.cif\u001b[39m\u001b[38;5;124m'\u001b[39m)\n\u001b[1;32m----> 8\u001b[0m rmsd\u001b[38;5;241m=\u001b[39m \u001b[43ms1\u001b[49m\u001b[38;5;241;43m.\u001b[39;49m\u001b[43mget_rmsd\u001b[49m(s2)\n\u001b[0;32m      9\u001b[0m \u001b[38;5;28mprint\u001b[39m(rmsd)\n",
      "\u001b[1;31mAttributeError\u001b[0m: 'Atoms' object has no attribute 'get_rmsd'"
     ]
    }
   ],
   "source": [
    "from ase.io import read\n",
    "from ase import Atoms\n",
    "from ase.build import molecule\n",
    "from ase.cluster.icosahedron import Icosahedron\n",
    "from ase.cluster.wulff import wulff_construction\n",
    "s1 = read('./output//mol_to_ad//Ru--C//random_model1Ru--C.cif')\n",
    "s2 = read('./output/mol_to_ad/Ru--C/random_model2Ru--C.cif')\n",
    "rmsd= s1.get_rmsd(s2)\n",
    "print(rmsd)"
   ]
  }
 ],
 "metadata": {
  "kernelspec": {
   "display_name": "ASE_env",
   "language": "python",
   "name": "python3"
  },
  "language_info": {
   "codemirror_mode": {
    "name": "ipython",
    "version": 3
   },
   "file_extension": ".py",
   "mimetype": "text/x-python",
   "name": "python",
   "nbconvert_exporter": "python",
   "pygments_lexer": "ipython3",
   "version": "3.12.3"
  }
 },
 "nbformat": 4,
 "nbformat_minor": 2
}
